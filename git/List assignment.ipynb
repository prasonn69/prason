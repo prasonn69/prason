{
 "cells": [
  {
   "cell_type": "markdown",
   "id": "f85d9e6e-84ff-4d06-86d5-eca267ab9094",
   "metadata": {},
   "source": [
    "1.9. 💻 Exercises ➞ List\n",
    "1.9.1. Exercises ➞ Level 1\n",
    "Declare a list with more than 5 items with different data types\n",
    "\n",
    "Find the length of your list\n",
    "\n",
    "Get the first item, the middle item and the last item of the list\n",
    "\n",
    "Declare a list called my_info, put your (name, age, height, marital status, country)\n",
    "\n",
    "Declare a list variable named mix_fruits and assign initial values Guava, Mango, Apple, Pear, Fig, Orange and Banana and print the list.\n",
    "\n",
    "Print the list using print()\n",
    "\n",
    "Print the number of mix_fruits in the list\n",
    "\n",
    "Print the first, middle and last fruit\n",
    "\n",
    "Print the list after modifying one of the fruit\n",
    "\n",
    "Add an fruit to variable mix_fruits\n",
    "\n",
    "Insert an fruit in the middle of the mix_fruits list\n",
    "\n",
    "Change one of the fruit names to uppercase\n",
    "\n",
    "Join the elements in mix_fruits with a string -#-\n",
    "\n",
    "Check if a certain fruit exists in the mix_fruits list.\n",
    "\n",
    "Sort the list using sort() method\n",
    "\n",
    "Reverse the list in descending order using reverse() method\n",
    "\n",
    "Slice out the first 3 fruits from the list\n",
    "\n",
    "Slice out the last 3 fruits from the list\n",
    "\n",
    "Slice out the middle fruit or fruits from the list\n",
    "\n",
    "Remove the first fruit from the list\n",
    "\n",
    "Remove the middle fruit or companies from the list\n",
    "\n",
    "Remove the last fruit from the list\n",
    "\n",
    "Remove all fruits from the list\n",
    "\n",
    "Delete the fruits list\n",
    "\n",
    "Join the following lists:\n",
    "\n",
    "front_end = ['HTML', 'CSS', 'JS', 'React', 'Redux'] back_end = ['Node','Express', 'MongoDB']\n",
    "\n",
    "\n",
    "After joining the lists in question 25. Copy the joined list and assign it to a variable full_stack. Then insert 'Python' and 'SQL' after 'Redux'.\n",
    "\n",
    "1.9.2. Exercises ➞ Level 2\n",
    "The following is a list of 10 students ages:\n",
    "\n",
    "ages = [19, 23, 19, 25, 21, 20, 25, 26, 25, 24] ```\n",
    "\n",
    "    - Sort the list and find the min and max age\n",
    "    - Add the min age and the max age again to the list\n",
    "    - Find the median age (one middle item or two middle items divided by two)\n",
    "    - Find the average age (sum of all items divided by their number )\n",
    "    - Find the range of the ages (max - min)\n",
    "    - Compare the value of (min - average) and (max - average), use **[abs()](../04_Python_Functions/blob/main/002_Python_Functions_Built_in/001_Python_abs%28%29.ipynb)** method\n",
    "Find the middle country(ies) in the countries list\n",
    "Divide the countries list into two equal lists if it is even if not one more country for the first half.\n",
    "['India', 'Russia', 'China', 'Finland', 'Sweden', 'Norway', 'Denmark']. Unpack the first three countries and the rest as scandic countries."
   ]
  },
  {
   "cell_type": "code",
   "execution_count": 2,
   "id": "44219d8e-bf8b-487a-beb4-d8612077b7e5",
   "metadata": {},
   "outputs": [
    {
     "name": "stdout",
     "output_type": "stream",
     "text": [
      "[1, 2, 3, 4, 5]\n",
      "5\n"
     ]
    }
   ],
   "source": [
    "#Declare a list with more than 5 items with different data types\n",
    "\n",
    "#Find the length of your list\n",
    "\n",
    "list=[1,2,3,4,5]\n",
    "print(list)\n",
    "print(len(list))"
   ]
  },
  {
   "cell_type": "code",
   "execution_count": 3,
   "id": "254d2f88-5f23-4f48-99a3-42d2453e8127",
   "metadata": {},
   "outputs": [
    {
     "name": "stdout",
     "output_type": "stream",
     "text": [
      "1 3 5\n"
     ]
    }
   ],
   "source": [
    "#Get the first item, the middle item and the last item of the list\n",
    "x=[1,2,3,4,5]\n",
    "print(x[0],x[2],x[-1])\n"
   ]
  },
  {
   "cell_type": "code",
   "execution_count": 6,
   "id": "2628ae51-6551-46fd-bf7f-396dd084984e",
   "metadata": {},
   "outputs": [
    {
     "name": "stdout",
     "output_type": "stream",
     "text": [
      "['Prason', 16, 5.5, 'Unmarried', 'Nepal']\n"
     ]
    }
   ],
   "source": [
    "#Declare a list called my_info, put your (name, age, height, marital status, country)\n",
    "my_info=['Prason',16,5.5,'Unmarried','Nepal']\n",
    "print(my_info)"
   ]
  },
  {
   "cell_type": "code",
   "execution_count": null,
   "id": "8d085ddb-9695-46c0-b7d0-95391c31e10e",
   "metadata": {},
   "outputs": [],
   "source": [
    "#Declare a list variable named mix_fruits and assign initial values Guava, Mango, Apple, Pear, Fig, Orange and Banana and print the list.\n"
   ]
  }
 ],
 "metadata": {
  "kernelspec": {
   "display_name": "Python 3 (ipykernel)",
   "language": "python",
   "name": "python3"
  },
  "language_info": {
   "codemirror_mode": {
    "name": "ipython",
    "version": 3
   },
   "file_extension": ".py",
   "mimetype": "text/x-python",
   "name": "python",
   "nbconvert_exporter": "python",
   "pygments_lexer": "ipython3",
   "version": "3.13.1"
  }
 },
 "nbformat": 4,
 "nbformat_minor": 5
}
