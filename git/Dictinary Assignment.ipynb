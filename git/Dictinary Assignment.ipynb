{
 "cells": [
  {
   "cell_type": "code",
   "execution_count": 3,
   "id": "a93ada90-48fb-4ca5-9e52-dea9b9a64ce9",
   "metadata": {},
   "outputs": [
    {
     "name": "stdout",
     "output_type": "stream",
     "text": [
      "{'name': 'Tweety', 'color': 'Yellow', 'breed': 'Canary', 'legs': 2, 'age': 3}\n"
     ]
    }
   ],
   "source": [
    "# Create an empty dictionary called bird\n",
    "bird = {}\n",
    "\n",
    "# Add name, color, breed, legs, age to the bird dictionary\n",
    "bird['name'] = 'Tweety'\n",
    "bird['color'] = 'Yellow'\n",
    "bird['breed'] = 'Canary'\n",
    "bird['legs'] = 2\n",
    "bird['age'] = 3\n",
    "print(bird)"
   ]
  },
  {
   "cell_type": "code",
   "execution_count": 3,
   "id": "e1a43b17-e303-4232-9823-a8934df15453",
   "metadata": {},
   "outputs": [
    {
     "name": "stdout",
     "output_type": "stream",
     "text": [
      "{'First name': 'Prason', 'Surname': 'Shrestha', 'Gender': 'Male', 'Marital Status': 'Unmarried', 'skills': ['Python', 'Java'], 'country': 'Nepal', 'city': 'Kathmandu', 'address': 'Jayanti Marga'}\n"
     ]
    }
   ],
   "source": [
    "# Create a student dictionary and add first_name, last_name, gender, age, marital_status, skills, country, city and address as keys for the dictionary\n",
    "student={\n",
    "'First name':'Prason',\n",
    "'Surname': 'Shrestha',\n",
    "'Gender':'Male',\n",
    "'Marital Status':'Unmarried',\n",
    "'skills': ['Python', 'Java'],\n",
    "'country': 'Nepal',\n",
    "'city': 'Kathmandu',\n",
    "'address': 'Jayanti Marga'\n",
    "}\n",
    "print(student)"
   ]
  },
  {
   "cell_type": "code",
   "execution_count": 4,
   "id": "02e76db2-847e-4e37-bef6-ee3a6781ef8e",
   "metadata": {},
   "outputs": [
    {
     "name": "stdout",
     "output_type": "stream",
     "text": [
      "{'First name': 'Prason', 'Surname': 'Shrestha', 'Gender': 'Male', 'Marital Status': 'Unmarried', 'skills': ['Python', 'Java'], 'country': 'Nepal', 'city': 'Kathmandu', 'address': 'Jayanti Marga'}\n",
      "8\n"
     ]
    }
   ],
   "source": [
    "#Get the length of the student dictionary\n",
    "student={\n",
    "'First name':'Prason',\n",
    "'Surname': 'Shrestha',\n",
    "'Gender':'Male',\n",
    "'Marital Status':'Unmarried',\n",
    "'skills': ['Python', 'Java'],\n",
    "'country': 'Nepal',\n",
    "'city': 'Kathmandu',\n",
    "'address': 'Jayanti Marga'\n",
    "}\n",
    "print(student)\n",
    "print(len(student))"
   ]
  },
  {
   "cell_type": "code",
   "execution_count": 23,
   "id": "f48b9bd0-d07b-4007-945c-137b7ab0592c",
   "metadata": {},
   "outputs": [
    {
     "name": "stdout",
     "output_type": "stream",
     "text": [
      "Value of skills: ['Python', 'Java']\n",
      "<class 'list'>\n"
     ]
    }
   ],
   "source": [
    "#Get the value of skills and check the data type, it should be a list\n",
    "student={\n",
    "'First name':'Prason',\n",
    "'Surname': 'Shrestha',\n",
    "'Gender':'Male',\n",
    "'Marital Status':'Unmarried',\n",
    "'skills': ['Python', 'Java'],\n",
    "'country': 'Nepal',\n",
    "'city': 'Kathmandu',\n",
    "'address': 'Jayanti Marga'\n",
    "}\n",
    "skills_value = student['skills']\n",
    "print(\"Value of skills:\", skills_value)\n",
    "print(type(skills_value))\n"
   ]
  },
  {
   "cell_type": "code",
   "execution_count": 16,
   "id": "3a6018ef-3e99-4813-9f78-e93b17d3b7ce",
   "metadata": {},
   "outputs": [
    {
     "name": "stdout",
     "output_type": "stream",
     "text": [
      "['Python', 'Java', 'SEO']\n"
     ]
    }
   ],
   "source": [
    "student={\n",
    "'First name':'Prason',\n",
    "'Surname': 'Shrestha',\n",
    "'Gender':'Male',\n",
    "'Marital Status':'Unmarried',\n",
    "'skills': ['Python', 'Java'],\n",
    "'country': 'Nepal',\n",
    "'city': 'Kathmandu',\n",
    "'address': 'Jayanti Marga'\n",
    "}\n",
    "skills_value = student['skills']\n",
    "skills_value.append('SEO')\n",
    "print(skills_value)"
   ]
  },
  {
   "cell_type": "code",
   "execution_count": 18,
   "id": "0cad765a-6285-4583-b4f4-b99697cc8b57",
   "metadata": {},
   "outputs": [
    {
     "name": "stdout",
     "output_type": "stream",
     "text": [
      "Keys as list: ['First name', 'Surname', 'Gender', 'Marital Status', 'skills', 'country', 'city', 'address']\n",
      "Values as list: ['Prason', 'Shrestha', 'Male', 'Unmarried', ['Python', 'Java'], 'Nepal', 'Kathmandu', 'Jayanti Marga']\n"
     ]
    }
   ],
   "source": [
    "#Get the dictionary keys as a list\n",
    "#Get the dictionary values as a list\n",
    "student={\n",
    "'First name':'Prason',\n",
    "'Surname': 'Shrestha',\n",
    "'Gender':'Male',\n",
    "'Marital Status':'Unmarried',\n",
    "'skills': ['Python', 'Java'],\n",
    "'country': 'Nepal',\n",
    "'city': 'Kathmandu',\n",
    "'address': 'Jayanti Marga'\n",
    "}\n",
    "skills_value = student['skills']\n",
    "keys_list = list(student.keys())\n",
    "print(\"Keys as list:\", keys_list)\n",
    "values_list=list(student.values())\n",
    "print(\"Values as list:\",values_list)"
   ]
  },
  {
   "cell_type": "code",
   "execution_count": 25,
   "id": "ed7b8386-1922-426e-b144-29aaf5265be1",
   "metadata": {},
   "outputs": [
    {
     "name": "stdout",
     "output_type": "stream",
     "text": [
      "[('First name', 'Prason'), ('Surname', 'Shrestha'), ('Gender', 'Male'), ('Marital Status', 'Unmarried'), ('skills', ['Python', 'Java']), ('country', 'Nepal'), ('city', 'Kathmandu'), ('address', 'Jayanti Marga')]\n"
     ]
    }
   ],
   "source": [
    "#Change the dictionary to a list of tuples using items() method\n",
    "student={\n",
    "'First name':'Prason',\n",
    "'Surname': 'Shrestha',\n",
    "'Gender':'Male',\n",
    "'Marital Status':'Unmarried',\n",
    "'skills': ['Python', 'Java'],\n",
    "'country': 'Nepal',\n",
    "'city': 'Kathmandu',\n",
    "'address': 'Jayanti Marga'\n",
    "}\n",
    "list_of_tuples=list(student.items())\n",
    "print(list_of_tuples)"
   ]
  },
  {
   "cell_type": "code",
   "execution_count": 30,
   "id": "0b2c192a-d798-494c-87e1-4ae0d1907cee",
   "metadata": {},
   "outputs": [
    {
     "name": "stdout",
     "output_type": "stream",
     "text": [
      "Dictionary after deleting 'address': {'First name': 'Prason', 'Surname': 'Shrestha', 'Gender': 'Male', 'Marital Status': 'Unmarried', 'skills': ['Python', 'Java'], 'country': 'Nepal', 'city': 'Kathmandu'}\n"
     ]
    }
   ],
   "source": [
    "#Delete one of the items in the dictionary\n",
    "student={\n",
    "'First name':'Prason',\n",
    "'Surname': 'Shrestha',\n",
    "'Gender':'Male',\n",
    "'Marital Status':'Unmarried',\n",
    "'skills': ['Python', 'Java'],\n",
    "'country': 'Nepal',\n",
    "'city': 'Kathmandu',\n",
    "'address': 'Jayanti Marga'\n",
    "}\n",
    "del student['address']\n",
    "print(\"Dictionary after deleting 'address':\", student)"
   ]
  },
  {
   "cell_type": "code",
   "execution_count": 33,
   "id": "3d47510e-14a6-4cdd-b283-b28dce365b4e",
   "metadata": {},
   "outputs": [
    {
     "name": "stdout",
     "output_type": "stream",
     "text": [
      "{'First name': 'Prason', 'Surname': 'Shrestha', 'Gender': 'Male', 'Marital Status': 'Unmarried', 'skills': ['Python', 'Java'], 'country': 'Nepal', 'address': 'Jayanti Marga'}\n"
     ]
    }
   ],
   "source": [
    "#Delete one of the dictionaries\n",
    "student={\n",
    "'First name':'Prason',\n",
    "'Surname': 'Shrestha',\n",
    "'Gender':'Male',\n",
    "'Marital Status':'Unmarried',\n",
    "'skills': ['Python', 'Java'],\n",
    "'country': 'Nepal',\n",
    "'city': 'Kathmandu',\n",
    "'address': 'Jayanti Marga'\n",
    "}\n",
    "student.pop('city')\n",
    "print(student)"
   ]
  },
  {
   "cell_type": "code",
   "execution_count": null,
   "id": "5b4d5b20-1e9e-4aa4-8ea6-53e0b6f22719",
   "metadata": {},
   "outputs": [],
   "source": []
  }
 ],
 "metadata": {
  "kernelspec": {
   "display_name": "Python 3 (ipykernel)",
   "language": "python",
   "name": "python3"
  },
  "language_info": {
   "codemirror_mode": {
    "name": "ipython",
    "version": 3
   },
   "file_extension": ".py",
   "mimetype": "text/x-python",
   "name": "python",
   "nbconvert_exporter": "python",
   "pygments_lexer": "ipython3",
   "version": "3.13.1"
  }
 },
 "nbformat": 4,
 "nbformat_minor": 5
}
