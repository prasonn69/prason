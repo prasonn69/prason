{
 "cells": [
  {
   "cell_type": "markdown",
   "id": "4d82ccd7",
   "metadata": {},
   "source": [
    "## 💻 Exercises ➞ <span class='label label-default'>Operators</span>\n",
    "\n",
    "1. Declare your age as integer variable\n",
    "2. Declare your height as a float variable\n",
    "3. Declare a variable that store a complex number\n",
    "4. Write a code that prompts the user to enter base and height of the triangle and calculate an area of this triangle (area = 0.5 x b x h).\n",
    "\n",
    "```py\n",
    "    Enter base: 20\n",
    "    Enter height: 10\n",
    "    The area of the triangle is 100\n",
    "```\n",
    "\n",
    "5. Write a code that prompts the user to enter side a, side b, and side c of the triangle. Calculate the perimeter of the triangle (perimeter = a + b + c).\n",
    "\n",
    "```py\n",
    "Enter side a: 5\n",
    "Enter side b: 4\n",
    "Enter side c: 3\n",
    "The perimeter of the triangle is 12\n",
    "```\n",
    "\n",
    "6. Get length and width of a rectangle using prompt. Calculate its area (**area = length x width**) and perimeter (**perimeter = 2 x (length + width)**)\n",
    "7. Get radius of a circle using prompt. Calculate the area (**area = pi x r x r**) and circumference (**c = 2 x pi x r**) where pi = 3.14.\n",
    "8. Calculate the slope, x-intercept and y-intercept of $y = 2x -2$\n",
    "9. Slope is ($m = (y2-y1)/(x2-x1)$). Find the slope and **[Euclidean distance](https://en.wikipedia.org/wiki/Euclidean_distance#:~:text=In%20mathematics%2C%20the%20Euclidean%20distance,being%20called%20the%20Pythagorean%20distance.)** between point (2, 2) and point (6,10) \n",
    "10. Compare the slopes in tasks 8 and 9.\n",
    "11. Calculate the value of y ($y = x^2 + 6x + 9$). Try to use different x values and figure out at what x value y is going to be 0.\n",
    "12. Find the length of **`'python'`** and **`'datascience'`** and make a falsy comparison statement.\n",
    "13. Use **`and`** operator to check if **`on`** is found in both **`python`** and **`cannon`**\n",
    "14. **`I hope this course is not full of jargon`**. Use **`in`** operator to check if **`jargon`** is in the sentence.\n",
    "15. There is no **`on`** in both **`python`** and **`cannon`**\n",
    "16. Find the length of the text **`python`** and convert the value to float and convert it to string\n",
    "17. Even numbers are divisible by 2 and the remainder is zero. How do you check if a number is even or not using python?\n",
    "18. Check if the floor division of 7 by 3 is equal to the int converted value of 2.7.\n",
    "19. Check if type of **\"10\"** is equal to type of 10\n",
    "20. Check if int(**\"9.6\"**) is equal to 10\n",
    "21. Write a code that prompts the user to enter hours and rate per hour. Calculate pay of the person?\n",
    "\n",
    "```py\n",
    "Enter hours: 40\n",
    "Enter rate per hour: 30\n",
    "Your weekly earning is 1200\n",
    "```\n",
    "\n",
    "22. Write a script that prompts the user to enter number of years. Calculate the number of seconds a person can live. Assume a person can live hundred years\n",
    "\n",
    "```py\n",
    "Enter number of years you have lived: 100\n",
    "You have lived for 3153600000 seconds.\n",
    "```\n",
    "\n",
    "23. Write a Python code that displays the following table\n",
    "\n",
    "```py\n",
    "1 2 3 4 5  \n",
    "2 4 6 8 10\n",
    "3 6 9 12 15\n",
    "4 8 12 16 20\n",
    "5 10 15 20 25\n",
    "```"
   ]
  },
  {
   "cell_type": "code",
   "execution_count": null,
   "id": "a7068c68-9e6a-4080-b5ce-e2f358a72a44",
   "metadata": {},
   "outputs": [],
   "source": []
  },
  {
   "cell_type": "code",
   "execution_count": 1,
   "id": "b3532c88-c9e5-473f-8f58-07916cdb2b0c",
   "metadata": {},
   "outputs": [
    {
     "name": "stdin",
     "output_type": "stream",
     "text": [
      "Enter the base 13\n",
      "Enter the height 14\n"
     ]
    },
    {
     "name": "stdout",
     "output_type": "stream",
     "text": [
      "91.0\n"
     ]
    }
   ],
   "source": [
    "age=19\n",
    "height=5.8\n",
    "comp=5j\n",
    "\n",
    "#Write a code that prompts the user to enter base and height of the triangle and calculate an area of this triangle (area = 0.5 x b x h).\n",
    "base=int(input('Enter the base'))\n",
    "height=int(input('Enter the height'))\n",
    "area=0.5*base*height\n",
    "print(area)\n"
   ]
  },
  {
   "cell_type": "code",
   "execution_count": 2,
   "id": "8a724a69-f246-4cba-8f17-fd4f6846ff64",
   "metadata": {},
   "outputs": [
    {
     "name": "stdin",
     "output_type": "stream",
     "text": [
      "Enter side a 13\n",
      "Enter side b 12\n",
      "Enter side c 23\n"
     ]
    },
    {
     "name": "stdout",
     "output_type": "stream",
     "text": [
      "48\n"
     ]
    }
   ],
   "source": [
    "#Write a code that prompts the user to enter side a, side b, and side c of the triangle. Calculate the perimeter of the triangle (perimeter = a + b + c).\n",
    "a=int(input('Enter side a'))\n",
    "b=int(input('Enter side b'))\n",
    "c=int(input('Enter side c'))\n",
    "perimeter=a+b+c\n",
    "print(perimeter)\n",
    "\n",
    "\n"
   ]
  },
  {
   "cell_type": "code",
   "execution_count": 1,
   "id": "cbab10e4-0818-4b89-bb28-38d928fc72d2",
   "metadata": {},
   "outputs": [
    {
     "name": "stdin",
     "output_type": "stream",
     "text": [
      "Enter the length 12\n",
      "Enter the breadth 13\n"
     ]
    },
    {
     "name": "stdout",
     "output_type": "stream",
     "text": [
      "Area of the reactangle:  156\n",
      "Perimeter of the rectangle:  50\n"
     ]
    }
   ],
   "source": [
    "#Get length and width of a rectangle using prompt. Calculate its area (**area = length x width**) and perimeter (**perimeter = 2 x (length + width)**)\n",
    "length=int(input('Enter the length'))\n",
    "breadth=int(input('Enter the breadth')) #width\n",
    "area=length*breadth\n",
    "perimeter=2*(length+breadth)\n",
    "print('Area of the reactangle: ',area)\n",
    "print('Perimeter of the rectangle: ',perimeter)"
   ]
  },
  {
   "cell_type": "code",
   "execution_count": 4,
   "id": "5b23e0ff-3dae-4397-915a-59ebc3a4c71c",
   "metadata": {},
   "outputs": [
    {
     "name": "stdin",
     "output_type": "stream",
     "text": [
      "Enter the radius of the circle:  12\n"
     ]
    },
    {
     "name": "stdout",
     "output_type": "stream",
     "text": [
      "Circle Area: 452.15999999999997, Circumference: 75.36\n"
     ]
    }
   ],
   "source": [
    "\n",
    "\n",
    "#  Circle Area and Circumference\n",
    "radius = float(input(\"Enter the radius of the circle: \"))\n",
    "pi = 3.14\n",
    "circle_area = pi * radius * radius\n",
    "circle_circumference = 2 * pi * radius\n",
    "print(f\"Circle Area: {circle_area}, Circumference: {circle_circumference}\")\n",
    "\n",
    "#  Slope and Euclidean Distance between (2, 2) and (6, 10)\n",
    "x1, y1 = 2, 2\n",
    "x2, y2 = 6, 10\n",
    "slope = (y2 - y1) / (x2 - x1)\n",
    "distance = ((x2 - x1) ** 2 + (y2 - y1) ** 2) ** 0.5\n",
    "print(f\"Slope: {slope}, Euclidean Distance: {distance}\")\n",
    "\n"
   ]
  },
  {
   "cell_type": "code",
   "execution_count": 3,
   "id": "b21d2ca0-ebcb-4090-a6c8-b50696e2720a",
   "metadata": {},
   "outputs": [
    {
     "name": "stdout",
     "output_type": "stream",
     "text": [
      "Slope: 2.0, Euclidean Distance: 8.94427190999916\n"
     ]
    }
   ],
   "source": [
    "#  Slope and Euclidean Distance between (2, 2) and (6, 10)\n",
    "x1, y1 = 2, 2\n",
    "x2, y2 = 6, 10\n",
    "slope = (y2 - y1) / (x2 - x1)\n",
    "distance = ((x2 - x1) ** 2 + (y2 - y1) ** 2) ** 0.5\n",
    "print(f\"Slope: {slope}, Euclidean Distance: {distance}\")"
   ]
  },
  {
   "cell_type": "code",
   "execution_count": null,
   "id": "a1cfc94a-577c-4ed5-8bff-9e150c29d901",
   "metadata": {},
   "outputs": [],
   "source": [
    "#  Length of 'python' and 'datascience', Falsy Comparison, Conversions\n",
    "word1, word2 = \"python\", \"datascience\"\n",
    "len_python = len(word1)\n",
    "len_ds = len(word2)\n",
    "falsy_comparison = len_python > len_ds  # 6 > 11 is \n",
    "float_len = float(len_python)  # 6.0\n",
    "str_len = str(float_len)  # \"6.0\"\n",
    "print(f\"Length of 'python': {len_python}, 'datascience': {len_ds}\")\n",
    "print(f\"Falsy comparison (6 > 11): {falsy_comparison}\")\n",
    "print(f\"Length as float: {float_len}, as string: {str_len}\")\n",
    "\n",
    "#  Check 'on' in 'python' and 'cannon'\n",
    "check_on = \"on\" in \"python\" and \"on\" in \"cannon\"\n",
    "print(f\"'on' in both 'python' and 'cannon': {check_on}\")\n",
    "\n",
    "# Check 'jargon' in sentence\n",
    "sentence = \"I hope this course is not full of jargon\"\n",
    "jargon_check = \"jargon\" in sentence\n",
    "print(f\"'jargon' in sentence: {jargon_check}\")\n",
    "\n",
    "#  Check if a number is even\n",
    "number = int(input(\"Enter a number to check if it's even: \"))\n",
    "is_even = number % 2 == 0\n",
    "print(f\"Is {number} even? {is_even}\")\n",
    "\n",
    "#  Calculate Pay\n",
    "hours = float(input(\"Enter hours: \"))\n",
    "rate = float(input(\"Enter rate per hour: \"))\n",
    "pay = hours * rate\n",
    "print(pay)"
   ]
  }
 ],
 "metadata": {
  "kernelspec": {
   "display_name": "Python 3 (ipykernel)",
   "language": "python",
   "name": "python3"
  },
  "language_info": {
   "codemirror_mode": {
    "name": "ipython",
    "version": 3
   },
   "file_extension": ".py",
   "mimetype": "text/x-python",
   "name": "python",
   "nbconvert_exporter": "python",
   "pygments_lexer": "ipython3",
   "version": "3.13.1"
  },
  "widgets": {
   "application/vnd.jupyter.widget-state+json": {
    "state": {},
    "version_major": 2,
    "version_minor": 0
   }
  }
 },
 "nbformat": 4,
 "nbformat_minor": 5
}
